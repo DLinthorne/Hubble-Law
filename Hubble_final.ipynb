{
 "cells": [
  {
   "cell_type": "markdown",
   "id": "487605f9-7641-409d-b851-8b7a736389ef",
   "metadata": {},
   "source": [
    "# Hubble Law Part 3: Extracting the Hubble Constant \n",
    "Author: Dylan Linthorne"
   ]
  },
  {
   "cell_type": "markdown",
   "id": "fac65cce-e779-43c1-9772-72b6601db63a",
   "metadata": {},
   "source": [
    "## Objective: \n",
    "---"
   ]
  },
  {
   "cell_type": "markdown",
   "id": "30e27c87-86b5-4a28-b456-efee61fb5dd8",
   "metadata": {},
   "source": [
    "n part 1 of the lab we calculated the radial velocities of galaxies receding from our line of sight using the redshift of the hydrogen alpha line. Whereas in part 2 we filled in the games of the missing distances to these galaxies by measuring its angular size and taking advantage of the average size of a spiral galaxy. The Hubble Law can now be investigated using the galactic information acquired. In the end of this notebook you'll be in a position to quote a final measured Hubble constant from applying regression models onto the data, as well as, goodness-of-fit statistics and comparisons. These final results will include:\n",
    "\n",
    "* Hubble Constant: $H_{o} \\pm \\sigma_{H}$.\n",
    "* Residuals of the regression.\n",
    "* Goodness-of-fit: $\\chi^2$, degrees of freedom, p-value.\n",
    "* Comparison: Student T-test using literature values."
   ]
  },
  {
   "cell_type": "code",
   "execution_count": 10,
   "id": "76fb9181-52c0-4f03-8045-0c38862d74d7",
   "metadata": {},
   "outputs": [],
   "source": [
    "import pandas as pd            #for our data structuress\n",
    "import numpy as np             #for manipulating data\n",
    "import matplotlib as mpl       #for visualization\n",
    "import scipy.optimize as sp             #for chi2 model fitting/minimization"
   ]
  },
  {
   "cell_type": "markdown",
   "id": "c0de5e94-5645-4c7f-bff1-fbb85405c30c",
   "metadata": {},
   "source": [
    "### Read in $(V_{radial}, D_{galactic})$:"
   ]
  },
  {
   "cell_type": "markdown",
   "id": "00379eaa-0ea3-42c9-ad3f-663f0eb62d2b",
   "metadata": {},
   "source": [
    "Read in te distances from the file distances.txt and velocities from radial_vel.txt into arrays. Both files should be ordered in the same manner (in increasing NGC galaxy designation)."
   ]
  },
  {
   "cell_type": "code",
   "execution_count": 11,
   "id": "35bc710e-9d6b-45cc-9267-e981a22691f8",
   "metadata": {},
   "outputs": [
    {
     "ename": "OSError",
     "evalue": "HubbleLawLab/Hubble-Law/NGCData/distances.txt not found.",
     "output_type": "error",
     "traceback": [
      "\u001b[0;31m---------------------------------------------------------------------------\u001b[0m",
      "\u001b[0;31mOSError\u001b[0m                                   Traceback (most recent call last)",
      "\u001b[0;32m<ipython-input-11-f6cb42ae9023>\u001b[0m in \u001b[0;36m<module>\u001b[0;34m\u001b[0m\n\u001b[1;32m      1\u001b[0m \u001b[0mdirectory\u001b[0m \u001b[0;34m=\u001b[0m \u001b[0;34m'NGCData/'\u001b[0m\u001b[0;34m;\u001b[0m\u001b[0;34m\u001b[0m\u001b[0;34m\u001b[0m\u001b[0m\n\u001b[1;32m      2\u001b[0m \u001b[0;34m\u001b[0m\u001b[0m\n\u001b[0;32m----> 3\u001b[0;31m \u001b[0mdis_data\u001b[0m \u001b[0;34m=\u001b[0m \u001b[0mnp\u001b[0m\u001b[0;34m.\u001b[0m\u001b[0mloadtxt\u001b[0m\u001b[0;34m(\u001b[0m\u001b[0;34m\"HubbleLawLab/Hubble-Law/NGCData/distances.txt\"\u001b[0m\u001b[0;34m)\u001b[0m\u001b[0;34m;\u001b[0m\u001b[0;34m\u001b[0m\u001b[0;34m\u001b[0m\u001b[0m\n\u001b[0m\u001b[1;32m      4\u001b[0m \u001b[0;31m#vel_data = np.loadtxt(str(directory) + \"radial_vel.txt\");\u001b[0m\u001b[0;34m\u001b[0m\u001b[0;34m\u001b[0m\u001b[0;34m\u001b[0m\u001b[0m\n\u001b[1;32m      5\u001b[0m \u001b[0;34m\u001b[0m\u001b[0m\n",
      "\u001b[0;32m/anaconda3/envs/DataScience/lib/python3.7/site-packages/numpy/lib/npyio.py\u001b[0m in \u001b[0;36mloadtxt\u001b[0;34m(fname, dtype, comments, delimiter, converters, skiprows, usecols, unpack, ndmin, encoding, max_rows, like)\u001b[0m\n\u001b[1;32m   1063\u001b[0m             \u001b[0mfname\u001b[0m \u001b[0;34m=\u001b[0m \u001b[0mos_fspath\u001b[0m\u001b[0;34m(\u001b[0m\u001b[0mfname\u001b[0m\u001b[0;34m)\u001b[0m\u001b[0;34m\u001b[0m\u001b[0;34m\u001b[0m\u001b[0m\n\u001b[1;32m   1064\u001b[0m         \u001b[0;32mif\u001b[0m \u001b[0m_is_string_like\u001b[0m\u001b[0;34m(\u001b[0m\u001b[0mfname\u001b[0m\u001b[0;34m)\u001b[0m\u001b[0;34m:\u001b[0m\u001b[0;34m\u001b[0m\u001b[0;34m\u001b[0m\u001b[0m\n\u001b[0;32m-> 1065\u001b[0;31m             \u001b[0mfh\u001b[0m \u001b[0;34m=\u001b[0m \u001b[0mnp\u001b[0m\u001b[0;34m.\u001b[0m\u001b[0mlib\u001b[0m\u001b[0;34m.\u001b[0m\u001b[0m_datasource\u001b[0m\u001b[0;34m.\u001b[0m\u001b[0mopen\u001b[0m\u001b[0;34m(\u001b[0m\u001b[0mfname\u001b[0m\u001b[0;34m,\u001b[0m \u001b[0;34m'rt'\u001b[0m\u001b[0;34m,\u001b[0m \u001b[0mencoding\u001b[0m\u001b[0;34m=\u001b[0m\u001b[0mencoding\u001b[0m\u001b[0;34m)\u001b[0m\u001b[0;34m\u001b[0m\u001b[0;34m\u001b[0m\u001b[0m\n\u001b[0m\u001b[1;32m   1066\u001b[0m             \u001b[0mfencoding\u001b[0m \u001b[0;34m=\u001b[0m \u001b[0mgetattr\u001b[0m\u001b[0;34m(\u001b[0m\u001b[0mfh\u001b[0m\u001b[0;34m,\u001b[0m \u001b[0;34m'encoding'\u001b[0m\u001b[0;34m,\u001b[0m \u001b[0;34m'latin1'\u001b[0m\u001b[0;34m)\u001b[0m\u001b[0;34m\u001b[0m\u001b[0;34m\u001b[0m\u001b[0m\n\u001b[1;32m   1067\u001b[0m             \u001b[0mfh\u001b[0m \u001b[0;34m=\u001b[0m \u001b[0miter\u001b[0m\u001b[0;34m(\u001b[0m\u001b[0mfh\u001b[0m\u001b[0;34m)\u001b[0m\u001b[0;34m\u001b[0m\u001b[0;34m\u001b[0m\u001b[0m\n",
      "\u001b[0;32m/anaconda3/envs/DataScience/lib/python3.7/site-packages/numpy/lib/_datasource.py\u001b[0m in \u001b[0;36mopen\u001b[0;34m(path, mode, destpath, encoding, newline)\u001b[0m\n\u001b[1;32m    192\u001b[0m \u001b[0;34m\u001b[0m\u001b[0m\n\u001b[1;32m    193\u001b[0m     \u001b[0mds\u001b[0m \u001b[0;34m=\u001b[0m \u001b[0mDataSource\u001b[0m\u001b[0;34m(\u001b[0m\u001b[0mdestpath\u001b[0m\u001b[0;34m)\u001b[0m\u001b[0;34m\u001b[0m\u001b[0;34m\u001b[0m\u001b[0m\n\u001b[0;32m--> 194\u001b[0;31m     \u001b[0;32mreturn\u001b[0m \u001b[0mds\u001b[0m\u001b[0;34m.\u001b[0m\u001b[0mopen\u001b[0m\u001b[0;34m(\u001b[0m\u001b[0mpath\u001b[0m\u001b[0;34m,\u001b[0m \u001b[0mmode\u001b[0m\u001b[0;34m,\u001b[0m \u001b[0mencoding\u001b[0m\u001b[0;34m=\u001b[0m\u001b[0mencoding\u001b[0m\u001b[0;34m,\u001b[0m \u001b[0mnewline\u001b[0m\u001b[0;34m=\u001b[0m\u001b[0mnewline\u001b[0m\u001b[0;34m)\u001b[0m\u001b[0;34m\u001b[0m\u001b[0;34m\u001b[0m\u001b[0m\n\u001b[0m\u001b[1;32m    195\u001b[0m \u001b[0;34m\u001b[0m\u001b[0m\n\u001b[1;32m    196\u001b[0m \u001b[0;34m\u001b[0m\u001b[0m\n",
      "\u001b[0;32m/anaconda3/envs/DataScience/lib/python3.7/site-packages/numpy/lib/_datasource.py\u001b[0m in \u001b[0;36mopen\u001b[0;34m(self, path, mode, encoding, newline)\u001b[0m\n\u001b[1;32m    529\u001b[0m                                       encoding=encoding, newline=newline)\n\u001b[1;32m    530\u001b[0m         \u001b[0;32melse\u001b[0m\u001b[0;34m:\u001b[0m\u001b[0;34m\u001b[0m\u001b[0;34m\u001b[0m\u001b[0m\n\u001b[0;32m--> 531\u001b[0;31m             \u001b[0;32mraise\u001b[0m \u001b[0mIOError\u001b[0m\u001b[0;34m(\u001b[0m\u001b[0;34m\"%s not found.\"\u001b[0m \u001b[0;34m%\u001b[0m \u001b[0mpath\u001b[0m\u001b[0;34m)\u001b[0m\u001b[0;34m\u001b[0m\u001b[0;34m\u001b[0m\u001b[0m\n\u001b[0m\u001b[1;32m    532\u001b[0m \u001b[0;34m\u001b[0m\u001b[0m\n\u001b[1;32m    533\u001b[0m \u001b[0;34m\u001b[0m\u001b[0m\n",
      "\u001b[0;31mOSError\u001b[0m: HubbleLawLab/Hubble-Law/NGCData/distances.txt not found."
     ]
    }
   ],
   "source": [
    "directory = 'NGCData/';\n",
    "\n",
    "dis_data = np.loadtxt(\"HubbleLawLab/Hubble-Law/NGCData/distances.txt\");\n",
    "#vel_data = np.loadtxt(str(directory) + \"radial_vel.txt\");\n",
    "\n",
    "#distances = dis_data[:,1];\n",
    "#velocities = vel_data[:,0];\n",
    "#velocities_std = vel_data[:,1];"
   ]
  },
  {
   "cell_type": "code",
   "execution_count": null,
   "id": "fbc436f4-2dba-42df-b839-44bd8661d302",
   "metadata": {},
   "outputs": [],
   "source": []
  }
 ],
 "metadata": {
  "kernelspec": {
   "display_name": "Python 3",
   "language": "python",
   "name": "python3"
  },
  "language_info": {
   "codemirror_mode": {
    "name": "ipython",
    "version": 3
   },
   "file_extension": ".py",
   "mimetype": "text/x-python",
   "name": "python",
   "nbconvert_exporter": "python",
   "pygments_lexer": "ipython3",
   "version": "3.7.10"
  }
 },
 "nbformat": 4,
 "nbformat_minor": 5
}
